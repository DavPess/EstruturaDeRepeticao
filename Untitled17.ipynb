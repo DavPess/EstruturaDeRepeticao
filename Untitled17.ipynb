{
  "nbformat": 4,
  "nbformat_minor": 0,
  "metadata": {
    "colab": {
      "provenance": [],
      "authorship_tag": "ABX9TyNZI4ZtNxfGXHGoT3YRLM1o",
      "include_colab_link": true
    },
    "kernelspec": {
      "name": "python3",
      "display_name": "Python 3"
    },
    "language_info": {
      "name": "python"
    }
  },
  "cells": [
    {
      "cell_type": "markdown",
      "metadata": {
        "id": "view-in-github",
        "colab_type": "text"
      },
      "source": [
        "<a href=\"https://colab.research.google.com/github/DavPess/EstruturaDeRepeticao/blob/main/Untitled17.ipynb\" target=\"_parent\"><img src=\"https://colab.research.google.com/assets/colab-badge.svg\" alt=\"Open In Colab\"/></a>"
      ]
    },
    {
      "cell_type": "code",
      "execution_count": null,
      "metadata": {
        "id": "XYttxCaBrLnw"
      },
      "outputs": [],
      "source": [
        "#ESTRUTURA DE REPETIÇÃO CURSO EM VIDEO -----------> GUANABARA "
      ]
    },
    {
      "cell_type": "code",
      "source": [
        "#036 ESCREVA UM PROGRAMA PARA APROVAR EMPRÉSTIMO BANCÁRIO PARA A COMPRA DE UMA CASA.\n",
        "#O PROGRAMA VAI PERGUNTAR O VALOR DA CASA, O SALÁRIO DO COMPRADOR E EM QUANTOS ANOS ELE VAI PAGAR.\n",
        "\n",
        "#CALCULE O VALOR DA PRESTAÇÃO MENSAL SABENDO QUE ELA NÃO PODE EXCEDER 30% DO SALÁRIO OU ENTÃO O EMPRÉSTIMO SERÁ NEGADO.\n",
        "\n",
        "valor_casa = float(input(\"Qual o valor da casa? \"))\n",
        "salario_comprador = float(input(\"Qual o seu salário? \"))\n",
        "anos_prestacao = int(input(\"Em quantos anos que deseja pagar o financiamento? \"))\n",
        "prestacao = anos_prestacao * 12\n",
        "salario_emprestimo = salario_comprador - salario_comprador * (30/100)\n",
        "valor_mensal = salario_emprestimo / prestacao \n",
        "print(valor_mensal)\n"
      ],
      "metadata": {
        "id": "yYrt_bJzSuC5"
      },
      "execution_count": null,
      "outputs": []
    },
    {
      "cell_type": "code",
      "source": [
        "#037  ESCREVA UM PROGRAMA QUE LEIA UM NUMERO INTEIRO QUALQUER E PEÇA PARA O USUÁRIO ESCOLHER QUAL SERÁ BASE DE CONVERSÃO:\n",
        "\n",
        "# 1 PARA BINÁRIO\n",
        "# 2 PARA OCTAL\n",
        "# 3 PARA HEXADECIMAL \n",
        "\n",
        "numero = int(input(\"Digite um numero: \"))"
      ],
      "metadata": {
        "id": "ECYQ3I7pUFp0"
      },
      "execution_count": null,
      "outputs": []
    },
    {
      "cell_type": "code",
      "source": [
        "#038 ESCREVA UM PROGRAMA QUE LEIA DOIS NUMEROS INTEIROS E COMPARE-OS, MOSTRANDO NA TELA:\n",
        "# O PRIMEIRO VALOR É MAIOR\n",
        "# O SEGUNDO VALOR É MAIOR\n",
        "# NÃO EXISTE VALOR MAIOR, OS DOIS SÃO IGUAIS\n"
      ],
      "metadata": {
        "id": "tMtZjwOzbjbE"
      },
      "execution_count": null,
      "outputs": []
    },
    {
      "cell_type": "code",
      "source": [
        "#039 FAÇA UM PROGRAMA QUE LEIA O ANO DE NASCIMENTO DE UM JOVEM E INFORME, DE ACORDO COM SUA IDADE: \n",
        "#SE ELE AINDA VAI SE ALISTAR AO SERVIÇO MILITAR\n",
        "#SE É A HORA DE SE ALISTAR \n",
        "#SE JÁ PASSOU DO TEMPO DO ALISTAMENTO.\n",
        "\n",
        "#SEU PROGRAMA TAMBÉM DEVERÁ MOSTRAR O TEMPO QUE FALTA OU QUE PASSOU DO PRAZO.\n"
      ],
      "metadata": {
        "id": "0qkZbMrmcN_H"
      },
      "execution_count": null,
      "outputs": []
    },
    {
      "cell_type": "code",
      "source": [
        "#40 CRIE UM PROGRAMA QUE LEIA DUAS NOTAS DE UM ALUNO E CALCULE SUA MÉDIA, MOSTRANDO UMA MENSAGEM NO FINAL, DE ACORDO COM A MÉDIA ATINGIDA\n",
        "#MÉDIA ABAIXO DE 5.0 = REPROVADO\n",
        "#MÉDIA ENTRE 5.0 E 6.9 = RECUPERAÇÃO\n",
        "#MÉDIA 7 OU SUPERIOR = APROVADO\n"
      ],
      "metadata": {
        "id": "H2J7QZ7fc2qd"
      },
      "execution_count": null,
      "outputs": []
    },
    {
      "cell_type": "code",
      "source": [
        "#041 A CONFEDERAÇÃO NACIONAL DE NATAÇÃO PRECISA DE UM PROGRAMA QUE LEIAO ANO DE NASCIMENTO\n",
        "# DE UM ATLETA E MOSTRE SUA CATEGORIA. DE ACORDO COM A IDADE:\n",
        "#ATÉ 9 ANOS: MIRIN\n",
        "#ATÉ 14 ANOS: INFANTIL\n",
        "#ATÉ 19 ANOS: JÚNIOR\n",
        "#ATÉ 20 ANOS: SÊNIOR\n",
        "#ACIMA: MASTER\n"
      ],
      "metadata": {
        "id": "stvIFacKdkKc"
      },
      "execution_count": null,
      "outputs": []
    },
    {
      "cell_type": "code",
      "source": [
        "#042 REFAÇA O DESAFIO 035 DOS TRIÂGULOS ACRESCENTANDO O RECURSO DE MOSTRAR QUE TIPO DE TRIÂNGULO SERÁ FORMADO:\n",
        "#EQUILÁTERO: TODOS OS LADOS IGUAIS\n",
        "#ISÓSCELES: DOIS LADOS IGUAIS\n",
        "#ESCALENO: TODOS OS LADOS DIFERENTES\n"
      ],
      "metadata": {
        "id": "uChGkaRweJqY"
      },
      "execution_count": null,
      "outputs": []
    },
    {
      "cell_type": "code",
      "source": [
        "#043 DESENVOLVA UMA LÓGICA QUE LEIA O PESO E ALTURA DE UMA PESSOA, CALCULE O IMC E MOSTRE SEU STATUS, DE ACORDO COM A TABELA:\n",
        "#ABAIXO DE 18.5: ABAIXO DO PESO\n",
        "#ENTRE 18.5 E 25: PESO IDEAL\n",
        "#25 ATÉ 30: SOBREPESO\n",
        "#30 ATÉ 40: OBESIDADE\n",
        "#ACIMA DE 40: OBESIDADE MÓRBIDA\n",
        "\n"
      ],
      "metadata": {
        "id": "wrBGOEGee6gv"
      },
      "execution_count": null,
      "outputs": []
    },
    {
      "cell_type": "code",
      "source": [
        "#044 ELABORE UM PROGRAMA QUE CALCULE O VALOR A SER PAGO POR PRODUTO, CONSIDERANDO O SEU PREÇO NORMAL E CONDIÇÃO DE PAGAMENTO\n",
        "#À VISTA DINHEIRO/PIX: DESCONTO 10%\n",
        "#À VISTA NO CARTÃO: DESCONTO 5%\n",
        "#EM ATÉ 2X NO CARTÃO: PREÇO NORMAL\n",
        "#3X OU MAIS NO CARTÃO: 20% DE JUROS\n"
      ],
      "metadata": {
        "id": "4YhfSXCRfjT7"
      },
      "execution_count": null,
      "outputs": []
    },
    {
      "cell_type": "code",
      "source": [
        "#45 CRIE UM PROGRAMA QUE FAÇA O COMPUTADOR JOGAR JOKENPÔ COM USUÁRIO  "
      ],
      "metadata": {
        "id": "KmgjbPXzgWjx"
      },
      "execution_count": null,
      "outputs": []
    }
  ]
}