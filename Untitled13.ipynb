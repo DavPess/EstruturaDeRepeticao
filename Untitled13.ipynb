{
  "nbformat": 4,
  "nbformat_minor": 0,
  "metadata": {
    "colab": {
      "provenance": [],
      "authorship_tag": "ABX9TyMenIW6KFaEueXygz8UAi8y",
      "include_colab_link": true
    },
    "kernelspec": {
      "name": "python3",
      "display_name": "Python 3"
    },
    "language_info": {
      "name": "python"
    }
  },
  "cells": [
    {
      "cell_type": "markdown",
      "metadata": {
        "id": "view-in-github",
        "colab_type": "text"
      },
      "source": [
        "<a href=\"https://colab.research.google.com/github/DavPess/EstruturaDeRepeticao/blob/main/Untitled13.ipynb\" target=\"_parent\"><img src=\"https://colab.research.google.com/assets/colab-badge.svg\" alt=\"Open In Colab\"/></a>"
      ]
    },
    {
      "cell_type": "code",
      "execution_count": null,
      "metadata": {
        "id": "qXH1qSfB0wAl"
      },
      "outputs": [],
      "source": [
        "#Estrutura de repetição WHILE\n",
        "\n",
        "#Dados dois numeros inteiros p (>=0) e q (>0), exibir quociente da divisão inteira de p por q\n",
        "#Sem usasr operadores de divisão e multiplicação.\n",
        "\n",
        "p = int(input(\"p: \"))\n",
        "q = int(input(\"q: \"))\n",
        "contador = 0\n",
        "\n",
        "while p >= q:\n",
        "  p = p - q\n",
        "  contador += 1\n",
        "print(f'O quociente da divisão é {contador}')"
      ]
    },
    {
      "cell_type": "code",
      "source": [
        "#VARIÁVEL ACUMULADORA \n",
        "\n",
        "#dados diversos numeros inteiros, exibir a media dos numeros lidos. A entrada termina com a leitura\n",
        "# do numero -1 que não deve ser contabilizado.\n",
        "\n",
        "soma = 0\n",
        "qtd = 0\n",
        "n = int(input(\"Numero: \"))\n",
        "\n",
        "while n != -1:\n",
        "  soma += n\n",
        "  qtd += 1 \n",
        "  n = int(input(\"Novo valor: \"))\n",
        "print(f\"Média {soma/qtd}\")"
      ],
      "metadata": {
        "id": "RzorR4_j1_ml"
      },
      "execution_count": null,
      "outputs": []
    },
    {
      "cell_type": "code",
      "source": [
        "#VARIÁVEL FLAG BOOLEANA\n",
        "\n",
        "#Crie um programa que peça ao usuário preços de produtos comprados até q ele decida\n",
        "#encerrar a compra. O programa, ao final, deve exibir o total gasto. \n",
        "\n",
        "total = 0\n",
        "quero_comprar = True\n",
        "\n",
        "while quero_comprar:\n",
        "  preco = float(input(\"Preço: \"))\n",
        "  total += preco\n",
        "  opcao = input(\"Continuar comprando (s/n)? \")\n",
        "  if opcao != 's':\n",
        "    quero_comprar = False \n",
        "print(f\"Total da compra R$ {total:.2f}\")"
      ],
      "metadata": {
        "colab": {
          "base_uri": "https://localhost:8080/"
        },
        "id": "Iyrg0yfv3nct",
        "outputId": "5d5ca4c0-5dbf-44b1-a2e7-68bf593d98bd"
      },
      "execution_count": 4,
      "outputs": [
        {
          "output_type": "stream",
          "name": "stdout",
          "text": [
            "Preço: 100.50\n",
            "Continuar comprando (s/n)? s\n",
            "Preço: 200\n",
            "Continuar comprando (s/n)? s\n",
            "Preço: 300\n",
            "Continuar comprando (s/n)? n\n",
            "Total da compra R$ 600.50\n"
          ]
        }
      ]
    }
  ]
}