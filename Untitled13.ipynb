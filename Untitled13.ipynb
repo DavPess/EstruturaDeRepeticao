{
  "nbformat": 4,
  "nbformat_minor": 0,
  "metadata": {
    "colab": {
      "provenance": [],
      "authorship_tag": "ABX9TyPC7oCnLHJByauRp17S2EW3",
      "include_colab_link": true
    },
    "kernelspec": {
      "name": "python3",
      "display_name": "Python 3"
    },
    "language_info": {
      "name": "python"
    }
  },
  "cells": [
    {
      "cell_type": "markdown",
      "metadata": {
        "id": "view-in-github",
        "colab_type": "text"
      },
      "source": [
        "<a href=\"https://colab.research.google.com/github/DavPess/EstruturaDeRepeticao/blob/main/Untitled13.ipynb\" target=\"_parent\"><img src=\"https://colab.research.google.com/assets/colab-badge.svg\" alt=\"Open In Colab\"/></a>"
      ]
    },
    {
      "cell_type": "code",
      "execution_count": null,
      "metadata": {
        "id": "qXH1qSfB0wAl"
      },
      "outputs": [],
      "source": [
        "#Estrutura de repetição WHILE\n",
        "\n",
        "#Dados dois numeros inteiros p (>=0) e q (>0), exibir quociente da divisão inteira de p por q\n",
        "#Sem usasr operadores de divisão e multiplicação.\n",
        "\n",
        "p = int(input(\"p: \"))\n",
        "q = int(input(\"q: \"))\n",
        "contador = 0\n",
        "\n",
        "while p >= q:\n",
        "  p = p - q\n",
        "  contador += 1\n",
        "print(f'O quociente da divisão é {contador}')"
      ]
    },
    {
      "cell_type": "code",
      "source": [
        "#VARIÁVEL ACUMULADORA \n",
        "\n",
        "#dados diversos numeros inteiros, exibir a media dos numeros lidos. A entrada termina com a leitura\n",
        "# do numero -1 que não deve ser contabilizado.\n",
        "\n",
        "soma = 0\n",
        "qtd = 0\n",
        "n = int(input(\"Numero: \"))\n",
        "\n",
        "while n != -1:\n",
        "  soma += n\n",
        "  qtd += 1 \n",
        "  n = int(input(\"Novo valor: \"))\n",
        "print(f\"Média {soma/qtd}\")"
      ],
      "metadata": {
        "id": "RzorR4_j1_ml"
      },
      "execution_count": null,
      "outputs": []
    },
    {
      "cell_type": "code",
      "source": [
        "#VARIÁVEL FLAG BOOLEANA\n",
        "\n",
        "#Crie um programa que peça ao usuário preços de produtos comprados até q ele decida\n",
        "#encerrar a compra. O programa, ao final, deve exibir o total gasto. \n",
        "\n",
        "total = 0\n",
        "quero_comprar = True\n",
        "\n",
        "while quero_comprar:\n",
        "  preco = float(input(\"Preço: \"))\n",
        "  total += preco\n",
        "  opcao = input(\"Continuar comprando (s/n)? \")\n",
        "  if opcao != 's':\n",
        "    quero_comprar = False \n",
        "print(f\"Total da compra R$ {total:.2f}\")"
      ],
      "metadata": {
        "id": "Iyrg0yfv3nct"
      },
      "execution_count": null,
      "outputs": []
    },
    {
      "cell_type": "code",
      "source": [
        "#ESTRUTURA DE REPETIÇÃO\n",
        "\n",
        "#Crie um programa que receba um numero natural n (n>1)\n",
        "#e exiba uma mensagem indicando se n é primo.\n",
        "\n",
        "#BREAK  encerra o loop\n",
        "\n",
        "n = int(input(\"Numero: \"))\n",
        "divisor = 2\n",
        "while divisor < n:\n",
        "  print(f'{n} % {divisor} = {n % divisor}')\n",
        "  if n % divisor == 0:\n",
        "    break\n",
        "  divisor += 1\n",
        "if divisor == n:\n",
        "  print(\"primo\")\n",
        "else:\n",
        "  print(\"não é primo\")\n",
        "\n"
      ],
      "metadata": {
        "id": "RfXh4fb3yBLE"
      },
      "execution_count": null,
      "outputs": []
    },
    {
      "cell_type": "code",
      "source": [
        "#REPEAT...UNTIL\n",
        "\n",
        "#Crie um programa que receba um numero n>=0\n",
        "#e exiba o valor da raiz quadrada de n.\n",
        "#Enquanto n for um numero negativo, reputa a solicitação de entrada.\n",
        "\n",
        "from math import sqrt\n",
        "\n",
        "while True:\n",
        "  n = float(input(\"Numero \"))\n",
        "  if n >= 0: break\n",
        "print(f'Raiz quadrada de {n} é {sqrt(n)}')"
      ],
      "metadata": {
        "id": "bnQzHzG2z0WR"
      },
      "execution_count": null,
      "outputs": []
    },
    {
      "cell_type": "code",
      "source": [
        "#LAÇO ANINHADO\n",
        "\n",
        "#Crie uma funççao que simule um relogio digital\n",
        "#exibindo desde 00:00:00 até 23:59:59.\n",
        "\n",
        "def relogio():\n",
        "  h = 0\n",
        "  while h < 24:\n",
        "    m = 0\n",
        "    while m < 60:\n",
        "      s = 0\n",
        "      while s < 60:\n",
        "        print(f'{h:02}:{m:02}:{s:02}')\n",
        "        s += 1\n",
        "      m += 1\n",
        "    h += 1\n",
        "relogio()"
      ],
      "metadata": {
        "id": "9Gw4WkfK02WD"
      },
      "execution_count": null,
      "outputs": []
    },
    {
      "cell_type": "code",
      "source": [
        "#ESTRUTURA DE REPETIÇÃO FOR\n",
        "\n",
        "#Crie um programa que solicite ao usuário um numero natural\n",
        "#e exiba a sequencia crescente de um até o numero dado\n",
        "\n",
        "n = int(input(\"Numero: \"))\n",
        "\n",
        "for i in range(1, n+1):\n",
        "  print(i, end=' ')"
      ],
      "metadata": {
        "id": "kCcgLMThPivB"
      },
      "execution_count": null,
      "outputs": []
    },
    {
      "cell_type": "code",
      "source": [
        "#Crie um programa que solicite ao usuário um número natural e exiba a \n",
        "#sequencia crescente de zero até o numero dado, somente os pares.\n",
        "\n",
        "n = int(input(\"Numero: \"))\n",
        "for i in range(0, n+1, 2):\n",
        "  print(i, end=' ')\n"
      ],
      "metadata": {
        "id": "h2m-t-7AS8D2"
      },
      "execution_count": null,
      "outputs": []
    },
    {
      "cell_type": "code",
      "source": [
        "#Crie um programa que solicite ao usuário um numero natural e exiba a sequencia descrente ao numero dado até um.\n",
        "\n",
        "n = int(input(\"Numero: \"))\n",
        "for i in range(n, 0, -1):\n",
        "  print(i, end=' ')"
      ],
      "metadata": {
        "id": "0EIwvlTzTfhM"
      },
      "execution_count": null,
      "outputs": []
    },
    {
      "cell_type": "code",
      "source": [
        "#Crie um programa que exiba os sete dias da semana\n",
        "\n",
        "dias = ('domingo', 'segunda', 'terça', 'quarta', 'quinta', 'sexta', 'sabado')\n",
        "for dia in dias: \n",
        "  print(dia)\n"
      ],
      "metadata": {
        "id": "BqockVsqUgKh"
      },
      "execution_count": null,
      "outputs": []
    }
  ]
}